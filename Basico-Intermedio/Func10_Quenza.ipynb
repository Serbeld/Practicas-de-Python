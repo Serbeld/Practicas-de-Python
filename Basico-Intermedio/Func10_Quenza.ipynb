{
  "nbformat": 4,
  "nbformat_minor": 0,
  "metadata": {
    "colab": {
      "name": "Trabajo_10_Paola_Quenza.ipynb",
      "provenance": [],
      "authorship_tag": "ABX9TyPl6nFVnAUChmNFeMDCX0iy",
      "include_colab_link": true
    },
    "kernelspec": {
      "name": "python3",
      "display_name": "Python 3"
    }
  },
  "cells": [
    {
      "cell_type": "markdown",
      "metadata": {
        "id": "view-in-github",
        "colab_type": "text"
      },
      "source": [
        "<a href=\"https://colab.research.google.com/github/Serbeld/Practicas-de-Python/blob/master/Func10_Quenza.ipynb\" target=\"_parent\"><img src=\"https://colab.research.google.com/assets/colab-badge.svg\" alt=\"Open In Colab\"/></a>"
      ]
    },
    {
      "cell_type": "code",
      "metadata": {
        "id": "TvK6hzq9LeRi",
        "colab_type": "code",
        "colab": {
          "base_uri": "https://localhost:8080/",
          "height": 109
        },
        "outputId": "22e59e82-5c41-4e68-d4b2-5d71455f0ddc"
      },
      "source": [
        "# Metalmecanica QUENZA\n",
        "\n",
        "\n",
        "# Funcion Eficacia\n",
        "def Eficacia(Produccion_real,Produccion_estandar):\n",
        "  # Se evalua la operacion matematica de Eficacia \n",
        "  # y se redondean los decimales a dos digitos\n",
        "\n",
        "  #Si la produccion estandar es mayor a 0 efectua la operacion\n",
        "  #Este condicional se usa para evitar divisiones por cero\n",
        "  if (Produccion_estandar > 0):\n",
        "    Eficacia = round((Produccion_real / Produccion_estandar) * 100, 2)\n",
        "  else:\n",
        "    Eficacia = 0\n",
        "  \n",
        "  return Eficacia\n",
        "\n",
        "\n",
        "# Funcion Matriz_de_eficacia\n",
        "def Matriz_de_eficacia(Mes_Uno, Mes_Dos, Mes_Tres, Mes_Cuatro):\n",
        "  \n",
        "  ACME121_1, ACME118_1, ACME114_1, ACME110_1 = Mes_Uno\n",
        "  ACME121_2, ACME118_2, ACME114_2, ACME110_2 = Mes_Dos\n",
        "  ACME121_3, ACME118_3, ACME114_3, ACME110_3 = Mes_Tres\n",
        "  ACME121_4, ACME118_4, ACME114_4, ACME110_4 = Mes_Cuatro\n",
        "\n",
        "\n",
        "  # Se evalua la eficacia de cada uno de los parametros de los meses ingresados\n",
        "  # con respecto a las maquinas empleadas\n",
        "  Matriz_de_eficacia = [[Eficacia(ACME121_1, 121), Eficacia(ACME118_1, 118), \n",
        "                        Eficacia(ACME114_1, 114), Eficacia(ACME110_1, 110)],\n",
        "                       \n",
        "                       [Eficacia(ACME121_2, 121), Eficacia(ACME118_2, 118),\n",
        "                        Eficacia(ACME114_2, 114), Eficacia(ACME110_2, 110)],\n",
        "                       \n",
        "                       [Eficacia(ACME121_3, 121), Eficacia(ACME118_3, 118),\n",
        "                        Eficacia(ACME114_3, 114), Eficacia(ACME110_3, 110)],\n",
        "                       \n",
        "                       [Eficacia(ACME121_4, 121), Eficacia(ACME118_4, 118),\n",
        "                        Eficacia(ACME114_4, 114), Eficacia(ACME110_4, 110)]]\n",
        "\n",
        "  return(Matriz_de_eficacia)\n",
        "\n",
        "# Se colocan las unidades producidas por hora con cada una de las maquinas\n",
        "# en los meses de Marzo, Abril, Mayo y Junio\n",
        "\n",
        "#Marzo = [Unidades_Producidas_Por_Maquina_ACME121, \n",
        "#         Unidades_Producidas_Por_Maquina_ACME118,\n",
        "#         Unidades_Producidas_Por_Maquina_ACME114,\n",
        "#         Unidades_Producidas_Por_Maquina_ACME110]\n",
        "Marzo = [112, 110, 108, 105]\n",
        "# Abril = [ACME121, ACME118, ACME114, ACME110]\n",
        "Abril = [111, 108, 110, 104]\n",
        "# Mayo = [ACME121, ACME118, ACME114, ACME110]\n",
        "Mayo = [110, 109, 109, 106]\n",
        "# Junio = [ACME121, ACME118, ACME114, ACME110]\n",
        "Junio = [114, 111, 107, 103]\n",
        "\n",
        "\n",
        "# Evalua la funcion Matriz_de_eficiencia y lo almacena en una variable\n",
        "Matriz_Cuatro_Por_Cuatro = Matriz_de_eficacia(Marzo, Abril, Mayo, Junio)\n",
        "\n",
        "\n",
        "# Encabezado\n",
        "print(\"ACME   121(%) 118(%) 114(%) 110(%)\")\n",
        "# Se imprime la primera fila de la matriz de eficacia\n",
        "print(\"Marzo \" + str(Matriz_Cuatro_Por_Cuatro[0][:]))\n",
        "# Se imprime la segunda fila de la matriz de eficacia\n",
        "print(\"Abril \" + str(Matriz_Cuatro_Por_Cuatro[1][:]))\n",
        "# Se imprime la tercera fila de la matriz de eficacia\n",
        "print(\"Mayo  \" + str(Matriz_Cuatro_Por_Cuatro[2][:]))\n",
        "# Se imprime la cuatro fila de la matriz de eficacia\n",
        "print(\"Junio \" + str(Matriz_Cuatro_Por_Cuatro[3][:]))\n"
      ],
      "execution_count": null,
      "outputs": [
        {
          "output_type": "stream",
          "text": [
            "ACME   121(%) 118(%) 114(%) 110(%)\n",
            "Marzo [92.56, 93.22, 94.74, 95.45]\n",
            "Abril [91.74, 91.53, 96.49, 94.55]\n",
            "Mayo  [90.91, 92.37, 95.61, 96.36]\n",
            "Junio [94.21, 94.07, 93.86, 93.64]\n"
          ],
          "name": "stdout"
        }
      ]
    }
  ]
}